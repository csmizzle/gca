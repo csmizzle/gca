{
 "cells": [
  {
   "cell_type": "code",
   "execution_count": 1,
   "metadata": {
    "collapsed": true,
    "ExecuteTime": {
     "start_time": "2023-06-29T21:24:28.924581Z",
     "end_time": "2023-06-29T21:24:29.986693Z"
    }
   },
   "outputs": [
    {
     "name": "stderr",
     "output_type": "stream",
     "text": [
      "/Users/csmizzle/Library/Caches/pypoetry/virtualenvs/gca-5sLP-nS3-py3.9/lib/python3.9/site-packages/urllib3/__init__.py:34: NotOpenSSLWarning: urllib3 v2.0 only supports OpenSSL 1.1.1+, currently the 'ssl' module is compiled with 'LibreSSL 2.8.3'. See: https://github.com/urllib3/urllib3/issues/3020\n",
      "  warnings.warn(\n"
     ]
    }
   ],
   "source": [
    "from langchain import PromptTemplate\n",
    "from pydantic import BaseModel, Field\n",
    "from langchain.output_parsers import PydanticOutputParser\n",
    "from typing import List"
   ]
  },
  {
   "cell_type": "code",
   "execution_count": 2,
   "outputs": [],
   "source": [
    "class ExtractionOutput(BaseModel):\n",
    "    people: List[str] = Field(description=\"People mentioned in the body of text\")\n",
    "    organizations: List[str] = Field(description=\"Organizations mentioned in the body of text\")\n",
    "    countries: List[str] = Field(description=\"Countries mentioned in the body of text\")\n",
    "    technologies: List[str] = Field(description=\"Technologies mentioned in the body of text\")\n",
    "    author: List[str] = Field(description=\"Author of the body of text\")"
   ],
   "metadata": {
    "collapsed": false,
    "ExecuteTime": {
     "start_time": "2023-06-29T21:24:29.989437Z",
     "end_time": "2023-06-29T21:24:29.991011Z"
    }
   }
  },
  {
   "cell_type": "code",
   "execution_count": 3,
   "outputs": [],
   "source": [
    "class Relationship(BaseModel):\n",
    "    initiator: str = Field('Initiator of action in text')\n",
    "    action: str = Field('Action of initiator towards recipient in text')\n",
    "    recipient: str = Field('Recipient of action from initiator in text')"
   ],
   "metadata": {
    "collapsed": false,
    "ExecuteTime": {
     "start_time": "2023-06-29T21:24:29.992790Z",
     "end_time": "2023-06-29T21:24:29.994204Z"
    }
   }
  },
  {
   "cell_type": "code",
   "execution_count": 4,
   "outputs": [],
   "source": [
    "class Relationships(BaseModel):\n",
    "    relationships: List[Relationship] = Field(\"List of all relationships from text\")"
   ],
   "metadata": {
    "collapsed": false,
    "ExecuteTime": {
     "start_time": "2023-06-29T21:24:29.995468Z",
     "end_time": "2023-06-29T21:24:29.997237Z"
    }
   }
  },
  {
   "cell_type": "code",
   "execution_count": 5,
   "outputs": [],
   "source": [
    "extraction_template = \"\"\"\\\n",
    "You are an Entity Extraction Algorithm. Your job is to extract all fields listed. Extract people, organizations, countries, technologies, and author (if present) from this body of text: {text} {format_instructions}\n",
    "\"\"\""
   ],
   "metadata": {
    "collapsed": false,
    "ExecuteTime": {
     "start_time": "2023-06-29T21:24:29.999344Z",
     "end_time": "2023-06-29T21:24:30.001251Z"
    }
   }
  },
  {
   "cell_type": "code",
   "execution_count": 6,
   "outputs": [],
   "source": [
    "extraction_parser = PydanticOutputParser(pydantic_object=ExtractionOutput)"
   ],
   "metadata": {
    "collapsed": false,
    "ExecuteTime": {
     "start_time": "2023-06-29T21:24:40.396146Z",
     "end_time": "2023-06-29T21:24:40.403333Z"
    }
   }
  },
  {
   "cell_type": "code",
   "execution_count": 7,
   "outputs": [],
   "source": [
    "rel_template = \"\"\"\n",
    "You are a Summarization and Extraction Algorithm. Summarize each paragraph in the body of text: {text}\n",
    "From that summary, extract the essential relationships and structure then as\n",
    "initiator, action, and recipient. The action is a two word summaries of the action between the initiator and the recipient. If an entry has none for either initiator or recipient , do not include it in the output. {format_instructions}\n",
    "\"\"\""
   ],
   "metadata": {
    "collapsed": false,
    "ExecuteTime": {
     "start_time": "2023-06-29T21:24:40.993521Z",
     "end_time": "2023-06-29T21:24:41.001771Z"
    }
   }
  },
  {
   "cell_type": "code",
   "execution_count": 8,
   "outputs": [],
   "source": [
    "rel_parser = PydanticOutputParser(pydantic_object=Relationships)"
   ],
   "metadata": {
    "collapsed": false,
    "ExecuteTime": {
     "start_time": "2023-06-29T21:24:41.538891Z",
     "end_time": "2023-06-29T21:24:41.542166Z"
    }
   }
  },
  {
   "cell_type": "markdown",
   "source": [],
   "metadata": {
    "collapsed": false
   }
  },
  {
   "cell_type": "code",
   "execution_count": 9,
   "outputs": [],
   "source": [
    "extraction_prompt = PromptTemplate(\n",
    "    template=extraction_template,\n",
    "    input_variables=[\"text\"],\n",
    "    partial_variables={\"format_instructions\": extraction_parser.get_format_instructions()},\n",
    ")"
   ],
   "metadata": {
    "collapsed": false,
    "ExecuteTime": {
     "start_time": "2023-06-29T21:24:42.485887Z",
     "end_time": "2023-06-29T21:24:42.490038Z"
    }
   }
  },
  {
   "cell_type": "code",
   "execution_count": 10,
   "outputs": [],
   "source": [
    "rel_prompt = PromptTemplate(\n",
    "    template=rel_template,\n",
    "    input_variables=[\"text\"],\n",
    "    partial_variables={\"format_instructions\": rel_parser.get_format_instructions()},\n",
    ")"
   ],
   "metadata": {
    "collapsed": false,
    "ExecuteTime": {
     "start_time": "2023-06-29T21:24:42.969909Z",
     "end_time": "2023-06-29T21:24:42.976669Z"
    }
   }
  },
  {
   "cell_type": "code",
   "execution_count": 11,
   "outputs": [
    {
     "data": {
      "text/plain": "'\\nYou are a Summarization and Extraction Algorithm. Summarize each paragraph in the body of text: Chris is a software engineer at Thomson Reuters\\nFrom that summary, extract the essential relationships and structure then as\\ninitiator, action, and recipient. The action is a two word summaries of the action between the initiator and the recipient. If an entry has none for either initiator or recipient , do not include it in the output. The output should be formatted as a JSON instance that conforms to the JSON schema below.\\n\\nAs an example, for the schema {\"properties\": {\"foo\": {\"title\": \"Foo\", \"description\": \"a list of strings\", \"type\": \"array\", \"items\": {\"type\": \"string\"}}}, \"required\": [\"foo\"]}}\\nthe object {\"foo\": [\"bar\", \"baz\"]} is a well-formatted instance of the schema. The object {\"properties\": {\"foo\": [\"bar\", \"baz\"]}} is not well-formatted.\\n\\nHere is the output schema:\\n```\\n{\"properties\": {\"relationships\": {\"title\": \"Relationships\", \"default\": \"List of all relationships from text\", \"type\": \"array\", \"items\": {\"$ref\": \"#/definitions/Relationship\"}}}, \"definitions\": {\"Relationship\": {\"title\": \"Relationship\", \"type\": \"object\", \"properties\": {\"initiator\": {\"title\": \"Initiator\", \"default\": \"Initiator of action in text\", \"type\": \"string\"}, \"action\": {\"title\": \"Action\", \"default\": \"Action of initiator towards recipient in text\", \"type\": \"string\"}, \"recipient\": {\"title\": \"Recipient\", \"default\": \"Recipient of action from initiator in text\", \"type\": \"string\"}}}}}\\n```\\n'"
     },
     "execution_count": 11,
     "metadata": {},
     "output_type": "execute_result"
    }
   ],
   "source": [
    "rel_prompt.format(text=\"Chris is a software engineer at Thomson Reuters\")"
   ],
   "metadata": {
    "collapsed": false,
    "ExecuteTime": {
     "start_time": "2023-06-29T21:24:43.423093Z",
     "end_time": "2023-06-29T21:24:43.428915Z"
    }
   }
  },
  {
   "cell_type": "code",
   "execution_count": 31,
   "outputs": [],
   "source": [
    "from langchain.llms import OpenAI\n",
    "from configparser import ConfigParser"
   ],
   "metadata": {
    "collapsed": false,
    "ExecuteTime": {
     "start_time": "2023-06-30T10:02:25.141693Z",
     "end_time": "2023-06-30T10:02:25.147016Z"
    }
   }
  },
  {
   "cell_type": "code",
   "execution_count": 33,
   "outputs": [],
   "source": [
    "config = ConfigParser()\n",
    "config.read('../config.ini')\n",
    "model_name = \"text-davinci-003\"\n",
    "temperature = 0.0\n",
    "model = OpenAI(\n",
    "    model_name=model_name,\n",
    "    temperature=temperature,\n",
    "    openai_api_key=config[\"openai\"][\"key\"],\n",
    "    streaming=True,\n",
    "    max_tokens=1024\n",
    ")"
   ],
   "metadata": {
    "collapsed": false,
    "ExecuteTime": {
     "start_time": "2023-06-30T10:02:30.536576Z",
     "end_time": "2023-06-30T10:02:30.541180Z"
    }
   }
  },
  {
   "cell_type": "code",
   "execution_count": 34,
   "outputs": [],
   "source": [
    "from langchain.chains import LLMChain"
   ],
   "metadata": {
    "collapsed": false,
    "ExecuteTime": {
     "start_time": "2023-06-30T10:02:31.590731Z",
     "end_time": "2023-06-30T10:02:31.597236Z"
    }
   }
  },
  {
   "cell_type": "code",
   "execution_count": 15,
   "outputs": [],
   "source": [
    "extraction_chain = LLMChain(llm=model, prompt=extraction_prompt)\n",
    "relationship_chain = LLMChain(llm=model, prompt=rel_prompt)"
   ],
   "metadata": {
    "collapsed": false,
    "ExecuteTime": {
     "start_time": "2023-06-29T21:24:45.376000Z",
     "end_time": "2023-06-29T21:24:45.383375Z"
    }
   }
  },
  {
   "cell_type": "code",
   "execution_count": 16,
   "outputs": [],
   "source": [
    "resp = extraction_chain.run(\"Chris Smith is a software engineer at Thomson Reuters and Alex Smith works at Deloitte. Russia does not like United States. Nvidia ships to America. Russia and Ukraine have been experiencing intense combat on the eastern front.\")"
   ],
   "metadata": {
    "collapsed": false,
    "ExecuteTime": {
     "start_time": "2023-06-29T21:24:45.944558Z",
     "end_time": "2023-06-29T21:24:49.541089Z"
    }
   }
  },
  {
   "cell_type": "code",
   "execution_count": 17,
   "outputs": [
    {
     "data": {
      "text/plain": "ExtractionOutput(people=['Chris Smith', 'Alex Smith'], organizations=['Thomson Reuters', 'Deloitte'], countries=['Russia', 'United States', 'Ukraine'], technologies=['Nvidia'], author=[])"
     },
     "execution_count": 17,
     "metadata": {},
     "output_type": "execute_result"
    }
   ],
   "source": [
    "extraction_parser.parse(resp)"
   ],
   "metadata": {
    "collapsed": false,
    "ExecuteTime": {
     "start_time": "2023-06-29T21:24:49.543022Z",
     "end_time": "2023-06-29T21:24:49.546558Z"
    }
   }
  },
  {
   "cell_type": "code",
   "execution_count": 18,
   "outputs": [],
   "source": [
    "import requests\n",
    "from bs4 import  BeautifulSoup"
   ],
   "metadata": {
    "collapsed": false,
    "ExecuteTime": {
     "start_time": "2023-06-29T21:24:49.545780Z",
     "end_time": "2023-06-29T21:24:49.635448Z"
    }
   }
  },
  {
   "cell_type": "code",
   "execution_count": 19,
   "outputs": [],
   "source": [
    "soup = requests.get(\"https://www.reuters.com/business/energy/renewables-growth-did-not-dent-fossil-fuel-dominance-2022-statistical-review-2023-06-25/\").text\n",
    "text = BeautifulSoup(soup).get_text()"
   ],
   "metadata": {
    "collapsed": false,
    "ExecuteTime": {
     "start_time": "2023-06-29T21:24:49.637172Z",
     "end_time": "2023-06-29T21:24:50.321990Z"
    }
   }
  },
  {
   "cell_type": "code",
   "execution_count": 20,
   "outputs": [],
   "source": [
    "from langchain.text_splitter import CharacterTextSplitter"
   ],
   "metadata": {
    "collapsed": false,
    "ExecuteTime": {
     "start_time": "2023-06-29T21:24:50.323017Z",
     "end_time": "2023-06-29T21:24:50.325839Z"
    }
   }
  },
  {
   "cell_type": "code",
   "execution_count": 21,
   "outputs": [],
   "source": [
    "splitter = CharacterTextSplitter.from_tiktoken_encoder(\n",
    "    chunk_size=100, chunk_overlap=0\n",
    ")"
   ],
   "metadata": {
    "collapsed": false,
    "ExecuteTime": {
     "start_time": "2023-06-29T21:24:50.325898Z",
     "end_time": "2023-06-29T21:24:50.553950Z"
    }
   }
  },
  {
   "cell_type": "code",
   "execution_count": 22,
   "outputs": [],
   "source": [
    "texts = splitter.split_text(text)"
   ],
   "metadata": {
    "collapsed": false,
    "ExecuteTime": {
     "start_time": "2023-06-29T21:24:50.554895Z",
     "end_time": "2023-06-29T21:24:50.557670Z"
    }
   }
  },
  {
   "cell_type": "code",
   "execution_count": 23,
   "outputs": [
    {
     "data": {
      "text/plain": "'Skip to main contentExclusive news, data and analytics for financial market professionalsLearn more aboutRefinitivReuters homeWorldBusinessMarketsSustainabilityLegalBreakingviewsTechnologyInvestigationsMoreMy ViewRegisterSustainable MarketsExploration & ProductionLNGGasClimate ChangeRenewables growth did not dent fossil fuel dominance in 2022, report saysReutersJune 26, 20238:02 AM UTCUpdated  agoCompaniesBp PlcFollowLONDON, June 26 (Reuters) - Global energy demand rose 1% last year and record renewables growth did nothing to shift the dominance of fossil fuels, which still accounted for 82% of supply, the industry\\'s Statistical Review of World Energy report said on Monday.Last year was marked by turmoil in the energy markets after Russia\\'s invasion of Ukraine, which helped to boost gas and coal prices to record levels in Europe and Asia.The stubborn lead of oil, gas and coal products in covering most energy demand cemented itself in 2022 despite the largest ever increase in renewables capacity at a combined 266 gigawatts, with solar leading wind power growth, the report said.\"Despite further strong growth in wind and solar in the power sector, overall global energy-related greenhouse gas emissions increased again,\" said the president of the UK-based global industry body Energy Institute, Juliet Davenport.\"We are still heading in the opposite direction to that required by the Paris Agreement.\"The annual report, a benchmark for the industry, was published for the first time by the Energy Institute together with consultancies KPMG and Kearny after they took it over from BP (BP.L), which had authored the report since the 1950s.Scientists say the world needs to cut greenhouse gas emissions by around 43% by 2030 from 2019 levels to have any hope of meeting the international Paris Agreement goal of keeping warming well below 2C above pre-industrial levels.Here are some highlights from the report on 2022:CONSUMPTIONGlobal primary energy demand grew around 1%, slowing from the previous year\\'s 5.5%, but demand was still around 3% above pre-coronavirus levels in 2019.Energy consumption grew everywhere apart from Europe, including Eastern Europe.Renewables, excluding hydropower, accounted for 7.5% of global energy consumption, around 1% higher than the previous year.The share of fossil fuels in global energy consumption remained at 82%.Electricity generation was up 2.3%, slowing down from the previous year. Wind and solar power grew to a record share of 12% of power generation, again surpassing nuclear, which fell 4.4%, and meeting 84% of net electricity demand growth.Coal\\'s share in power generation remained dominant at around 35.4%.[1/4]Smoke and steam billow from Belchatow Power Station, Europe\\'s largest coal-fired power plant powered by lignite, in Zlobnica, Poland October 20, 2022. REUTERS/Kuba StezyckiOILOil consumption increased by 2.9 million barrels per day (bpd) to 97.3 million bpd, with growth slowing compared with the previous year.Compared with pre-Covid levels in 2019, oil consumption was 0.7% lower.Most oil demand growth came from revived appetite for jet fuel and diesel-related products.Oil production grew by 3.8 million bpd, with the lion\\'s share coming from OPEC members and the United States. Nigeria saw the largest decline.Oil refining capacity grew by 534,000 bpd, mainly in non-OECD countries.NATURAL GASAmid record prices in Europe and Asia, global gas demand fell 3% but still made up 24% of primary energy consumption, slightly below the previous year.Gas production was stable year-on-year.Liquefied natural gas (LNG) production was up 5% at 542 billion cubic metres (bcm), a similar pace to the previous year, with most growth coming from North America and the Asia-Pacific region.Europe accounted for much of LNG demand growth, increasing its imports by 57%, while countries in the Asia-Pacific region and South and Central America reduced purchases.Japan replaced China as the world\\'s largest LNG importer.COALCoal prices hit record levels, rising 145% in Europe and 45% in Japan.Coal consumption rose 0.6%, its highest level since 2014, driven mainly by Chinese and Indian demand, while consumption in North America and Europe declined.Coal output was 7% higher than the previous year, with China, India and Indonesia accounting for most of the growth.RENEWABLESGrowth in renewable power, excluding hydro-power, slowed down slightly to 14% but solar and wind capacity still showed a record increase of 266 gigawatts, with solar taking the lion\\'s share.China added the most solar and wind power.EMISSIONSGlobal energy-related emissions, including industrial processes and flaring, were up 0.8% reaching a new high of 39.3 billion tonnes of CO2 equivalent.MINERALSLithium carbonate prices jumped 335%. Cobalt prices were up 24%.Lithium and cobalt production rose 21%.Reporting by Shadia Nasralla; editing by Philippa FletcherOur Standards: The Thomson Reuters Trust Principles.Read NextMarketscategoryChevron offers to sell oil and gas properties in New Mexico, TexasJune 29, 2023MarketscategoryBrent oil set to notch first monthly gain this year on supply fears12:28 AM UTC . Updated  agoStoragecategoryOil settles higher, trade choppy as tight supply vie with rate hike fearJune 29, 2023MarketscategoryExclusive: Exxon Mobil expands lithium bet with Tetra Technologies dealJune 28, 2023More from ReutersBusinessCanopy Growth closes sale of California facility amid liquidity worriesBusinesscategory · June 29, 2023Pot producer Canopy Growth said on Thursday it has completed the sale of its facility in Modesto, California as part of its divestitures to raise funding amid liquidity concerns.Regulatory OversightcategoryExclusive: EDF CEO tells managers nuclear business to be reorganisedJune 29, 2023article with galleryRetail & ConsumercategoryThrift store operator Savers valued at nearly $4 billion in market debutJune 29, 2023Grid & InfrastructurecategoryChina\\'s renewable \\'mega\\' bases face hurdles even as sector charges aheadJune 29, 2023article with galleryADAS, AV & SafetycategoryToyota\\'s May global sales jump as parts supply shortage easesJune 29, 2023Site IndexBrowseWorldBusinessLegalMarketsBreakingviewsTechnologyInvestigations, opens new tabLifestyleAbout ReutersAbout Reuters, opens new tabCareers, opens new tabReuters News Agency, opens new tabBrand Attribution Guidelines, opens new tabReuters Leadership, opens new tabReuters Fact Check, opens new tabReuters Diversity Report, opens new tabStay InformedDownload the App, opens new tabNewsletters, opens new tabInformation you can trustReuters, the news and media division of Thomson Reuters, is the world’s largest multimedia news provider, reaching billions of people worldwide every day. Reuters provides business, financial, national and international news to professionals via desktop terminals, the world\\'s media organizations, industry events and directly to consumers.Follow UsThomson Reuters ProductsWestlaw, opens new tabBuild the strongest argument relying on authoritative content, attorney-editor expertise, and industry defining technology.Onesource, opens new tabThe most comprehensive solution to manage all your complex and ever-expanding tax and compliance needs.Checkpoint, opens new tabThe industry leader for online information for tax, accounting and finance professionals.Refinitiv ProductsRefinitiv Workspace, opens new tab Access unmatched financial data, news and content in a highly-customised workflow experience on desktop, web and mobile.Refinitiv Data Catalogue, opens new tab Browse an unrivalled portfolio of real-time and historical market data and insights from worldwide sources and experts.Refinitiv World-Check, opens new tabScreen for heightened risk individual and entities globally to help uncover hidden risks in business relationships and human networks.Advertise With Us, opens new tabAdvertising Guidelines, opens new tabCoupons, opens new tabCookies, opens new tabTerms of Use, opens new tabPrivacy, opens new tabDigital Accessibility, opens new tabCorrections, opens new tabSite Feedback, opens new tabAll quotes delayed a minimum of 15 minutes. See here for a complete list of exchanges and delays.© 2023 Reuters. All rights reserved'"
     },
     "execution_count": 23,
     "metadata": {},
     "output_type": "execute_result"
    }
   ],
   "source": [
    "texts[1]"
   ],
   "metadata": {
    "collapsed": false,
    "ExecuteTime": {
     "start_time": "2023-06-29T21:24:50.559784Z",
     "end_time": "2023-06-29T21:24:50.563801Z"
    }
   }
  },
  {
   "cell_type": "code",
   "execution_count": 24,
   "outputs": [],
   "source": [
    "responses = []"
   ],
   "metadata": {
    "collapsed": false,
    "ExecuteTime": {
     "start_time": "2023-06-29T21:24:50.563226Z",
     "end_time": "2023-06-29T21:24:50.566860Z"
    }
   }
  },
  {
   "cell_type": "code",
   "execution_count": 25,
   "outputs": [
    {
     "data": {
      "text/plain": "2"
     },
     "execution_count": 25,
     "metadata": {},
     "output_type": "execute_result"
    }
   ],
   "source": [
    "len(texts)"
   ],
   "metadata": {
    "collapsed": false,
    "ExecuteTime": {
     "start_time": "2023-06-29T21:24:50.949969Z",
     "end_time": "2023-06-29T21:24:50.955269Z"
    }
   }
  },
  {
   "cell_type": "code",
   "execution_count": 26,
   "outputs": [],
   "source": [
    "for chunk in  texts:\n",
    "    responses.append(extraction_chain.run(chunk))"
   ],
   "metadata": {
    "collapsed": false,
    "ExecuteTime": {
     "start_time": "2023-06-29T21:24:51.631518Z",
     "end_time": "2023-06-29T21:25:06.242856Z"
    }
   }
  },
  {
   "cell_type": "code",
   "execution_count": 27,
   "outputs": [
    {
     "data": {
      "text/plain": "ExtractionOutput(people=['Juliet Davenport', 'Kuba Stezycki'], organizations=['Energy Institute', 'KPMG', 'Kearny', 'BP', 'Thomson Reuters', 'Chevron', 'Tetra Technologies', 'EDF', 'Savers'], countries=['Russia', 'Ukraine', 'Europe', 'Asia', 'North America', 'China', 'India', 'Japan', 'Indonesia', 'South and Central America'], technologies=['LNG', 'Solar', 'Wind Power', 'Nuclear', 'Coal', 'Lithium Carbonate', 'Cobalt'], author=['Shadia Nasralla'])"
     },
     "execution_count": 27,
     "metadata": {},
     "output_type": "execute_result"
    }
   ],
   "source": [
    "extraction_parser.parse(responses[1])"
   ],
   "metadata": {
    "collapsed": false,
    "ExecuteTime": {
     "start_time": "2023-06-29T21:25:06.227060Z",
     "end_time": "2023-06-29T21:25:06.243100Z"
    }
   }
  },
  {
   "cell_type": "markdown",
   "source": [
    "### Evaluation"
   ],
   "metadata": {
    "collapsed": false
   }
  },
  {
   "cell_type": "code",
   "execution_count": 28,
   "outputs": [],
   "source": [
    "### See how an agent improves over time when analyzing the task three times"
   ],
   "metadata": {
    "collapsed": false,
    "ExecuteTime": {
     "start_time": "2023-06-29T21:31:21.463152Z",
     "end_time": "2023-06-29T21:31:21.487245Z"
    }
   }
  },
  {
   "cell_type": "code",
   "execution_count": null,
   "outputs": [],
   "source": [
    "meta_template = \"\"\"\n",
    "Entity Extraction has just extracted the following from the below body of text. Your job is to critique Entity Extraction's performance and revise the Entity Extraction's Instructions so that Entity Extraction will more accurately extract entities in the future.\n",
    "\n",
    "####\n",
    "{hist}\n",
    "####\n",
    "\n",
    "Please reflect on this extraction.\n",
    "\n",
    "What are ways the Entity Extraction could be better? How can we better describe our objective?\n",
    "\"\"\""
   ],
   "metadata": {
    "collapsed": false
   }
  }
 ],
 "metadata": {
  "kernelspec": {
   "display_name": "Python 3",
   "language": "python",
   "name": "python3"
  },
  "language_info": {
   "codemirror_mode": {
    "name": "ipython",
    "version": 2
   },
   "file_extension": ".py",
   "mimetype": "text/x-python",
   "name": "python",
   "nbconvert_exporter": "python",
   "pygments_lexer": "ipython2",
   "version": "2.7.6"
  }
 },
 "nbformat": 4,
 "nbformat_minor": 0
}
